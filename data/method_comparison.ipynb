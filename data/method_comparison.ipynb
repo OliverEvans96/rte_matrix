{
 "cells": [
  {
   "cell_type": "code",
   "execution_count": 2,
   "metadata": {
    "collapsed": true
   },
   "outputs": [],
   "source": [
    "%load_ext autoreload\n",
    "%autoreload 2"
   ]
  },
  {
   "cell_type": "code",
   "execution_count": 3,
   "metadata": {
    "collapsed": false
   },
   "outputs": [],
   "source": [
    "import IPython\n",
    "from scipy import io\n",
    "import pandas as pd\n",
    "import h5py\n",
    "import matplotlib.pyplot as plt\n",
    "from matplotlib import cm, ticker, gridspec\n",
    "import gen_matrix_2d as gm2\n",
    "import numpy as np\n",
    "import cmocean\n",
    "%matplotlib inline"
   ]
  },
  {
   "cell_type": "code",
   "execution_count": 4,
   "metadata": {
    "collapsed": true
   },
   "outputs": [],
   "source": [
    "# Define figure size\n",
    "figsize=[10,8]\n",
    "\n",
    "# Scientific notation format\n",
    "# From: http://stackoverflow.com/questions/25983218/scientific-notation-colorbar-in-matplotlib\n",
    "def fmt(x, pos):\n",
    "    a, b = '{:.2e}'.format(x).split('e')\n",
    "    b = int(b)\n",
    "    return r'${} \\times 10^{{{}}}$'.format(a, b)"
   ]
  },
  {
   "cell_type": "code",
   "execution_count": 5,
   "metadata": {
    "collapsed": false
   },
   "outputs": [
    {
     "ename": "FileNotFoundError",
     "evalue": "File conv/conv.hdf does not exist",
     "output_type": "error",
     "traceback": [
      "\u001b[0;31m-----------------------------------------\u001b[0m",
      "\u001b[0;31mFileNotFoundError\u001b[0mTraceback (most recent call last)",
      "\u001b[0;32m<ipython-input-5-1e36e42f66f1>\u001b[0m in \u001b[0;36m<module>\u001b[0;34m()\u001b[0m\n\u001b[1;32m      1\u001b[0m \u001b[0;31m# Load data\u001b[0m\u001b[0;34m\u001b[0m\u001b[0;34m\u001b[0m\u001b[0m\n\u001b[0;32m----> 2\u001b[0;31m \u001b[0mdata\u001b[0m \u001b[0;34m=\u001b[0m \u001b[0mpd\u001b[0m\u001b[0;34m.\u001b[0m\u001b[0mread_hdf\u001b[0m\u001b[0;34m(\u001b[0m\u001b[0;34m'conv/conv.hdf'\u001b[0m\u001b[0;34m)\u001b[0m\u001b[0;34m\u001b[0m\u001b[0m\n\u001b[0m\u001b[1;32m      3\u001b[0m \u001b[0;34m\u001b[0m\u001b[0m\n\u001b[1;32m      4\u001b[0m \u001b[0;31m# Remove failed methods\u001b[0m\u001b[0;34m\u001b[0m\u001b[0;34m\u001b[0m\u001b[0m\n\u001b[1;32m      5\u001b[0m \u001b[0mdata\u001b[0m \u001b[0;34m=\u001b[0m \u001b[0mdata\u001b[0m\u001b[0;34m[\u001b[0m\u001b[0mdata\u001b[0m\u001b[0;34m[\u001b[0m\u001b[0;34m'info'\u001b[0m\u001b[0;34m]\u001b[0m\u001b[0;34m==\u001b[0m\u001b[0;36m0\u001b[0m\u001b[0;34m]\u001b[0m\u001b[0;34m\u001b[0m\u001b[0m\n",
      "\u001b[0;32m/home/oevans/local/anaconda3/lib/python3.6/site-packages/pandas/io/pytables.py\u001b[0m in \u001b[0;36mread_hdf\u001b[0;34m(path_or_buf, key, **kwargs)\u001b[0m\n\u001b[1;32m    324\u001b[0m         \u001b[0;32mif\u001b[0m \u001b[0;32mnot\u001b[0m \u001b[0mexists\u001b[0m\u001b[0;34m:\u001b[0m\u001b[0;34m\u001b[0m\u001b[0m\n\u001b[1;32m    325\u001b[0m             raise compat.FileNotFoundError(\n\u001b[0;32m--> 326\u001b[0;31m                 'File %s does not exist' % path_or_buf)\n\u001b[0m\u001b[1;32m    327\u001b[0m \u001b[0;34m\u001b[0m\u001b[0m\n\u001b[1;32m    328\u001b[0m         \u001b[0;31m# can't auto open/close if we are using an iterator\u001b[0m\u001b[0;34m\u001b[0m\u001b[0;34m\u001b[0m\u001b[0m\n",
      "\u001b[0;31mFileNotFoundError\u001b[0m: File conv/conv.hdf does not exist"
     ]
    }
   ],
   "source": [
    "# Load data\n",
    "data = pd.read_hdf('conv/conv.hdf')\n",
    "\n",
    "# Remove failed methods\n",
    "data = data[data['info']==0]\n",
    "\n",
    "# Extract classes\n",
    "krylov = data[data['class']=='krylov']\n",
    "direct = data[data['class']=='direct']\n",
    "\n",
    "# Import solution vectors\n",
    "sol = h5py.File('conv/conv_sol.hdf5','r')\n",
    "\n",
    "# Determine number of spatial & angular resolutions used in trials\n",
    "nsg = len(np.unique([key.split('x')[0] for key in sol.keys()]))\n",
    "nag = len(np.unique([key.split('x')[1] for key in sol.keys()]))"
   ]
  },
  {
   "cell_type": "code",
   "execution_count": null,
   "metadata": {
    "collapsed": false
   },
   "outputs": [],
   "source": [
    "np.unique([key.split('x')[0] for key in sol.keys()])"
   ]
  },
  {
   "cell_type": "code",
   "execution_count": null,
   "metadata": {
    "collapsed": false
   },
   "outputs": [],
   "source": [
    "np.unique([key.split('x')[1] for key in sol.keys()])"
   ]
  },
  {
   "cell_type": "code",
   "execution_count": null,
   "metadata": {
    "collapsed": false
   },
   "outputs": [],
   "source": [
    "# List of matrix sizes\n",
    "list(sol.keys())"
   ]
  },
  {
   "cell_type": "code",
   "execution_count": null,
   "metadata": {
    "collapsed": false
   },
   "outputs": [],
   "source": [
    "# List of methods\n",
    "list(sol['10x10'].keys())"
   ]
  },
  {
   "cell_type": "code",
   "execution_count": null,
   "metadata": {
    "collapsed": false
   },
   "outputs": [],
   "source": [
    "# Show a subset of data table\n",
    "ns=40\n",
    "nth=40\n",
    "whichrows = np.logical_and.reduce([\n",
    "    data['info']==0,\n",
    "    data['nx']==ns,\n",
    "    data['ny']==ns,\n",
    "   data['nth']==nth\n",
    "])\n",
    "data[whichrows]"
   ]
  },
  {
   "cell_type": "code",
   "execution_count": null,
   "metadata": {
    "collapsed": false
   },
   "outputs": [],
   "source": [
    "# Compare irradiance plots for two different methods\n",
    "ns = 40\n",
    "nth = 40\n",
    "method_list = ['lu','lgmres']\n",
    "for method in method_list:\n",
    "    plt.figure(figsize=figsize)\n",
    "    gm2.plot_irrad(\n",
    "        sol['{}x{}'.format(ns,nth)][method][:],\n",
    "        var_lengths=[ns,ns,nth],\n",
    "        var_order=[0,1,2],\n",
    "        title=method,\n",
    "        cmap=cmocean.cm.thermal\n",
    "    )"
   ]
  },
  {
   "cell_type": "code",
   "execution_count": null,
   "metadata": {
    "collapsed": false
   },
   "outputs": [],
   "source": [
    "list(sol['10x10'].keys())"
   ]
  },
  {
   "cell_type": "code",
   "execution_count": null,
   "metadata": {
    "collapsed": true
   },
   "outputs": [],
   "source": [
    "#sol.close()"
   ]
  },
  {
   "cell_type": "code",
   "execution_count": null,
   "metadata": {
    "collapsed": false
   },
   "outputs": [],
   "source": [
    "# fig = plt.figure(figsize=[10,6])\n",
    "# ax = plt.gca()\n",
    "# srtd = stat_it.sort_values('mat_size')\n",
    "# srtd.groupby('method').plot(x='mat_size',y='dt',ax=ax,marker='o')\n",
    "# ax.set_yscale('log')\n",
    "# plt.xlabel('Matrix size (m=n)')\n",
    "# plt.ylabel('Log time to converge (log s)')\n",
    "# plt.title('Convergence times: Stationary iterative methods')\n",
    "# plt.legend([v[0] for v in srtd.groupby('method')['method']])\n",
    "# plt.savefig('plots/stat_it_dt_log.png')\n",
    "# \n",
    "# fig = plt.figure(figsize=[10,6])\n",
    "# ax = plt.gca()\n",
    "# srtd.groupby('method').plot(x='mat_size',y='dt',ax=ax,marker='o')\n",
    "# plt.xlabel('Matrix size (m=n)')\n",
    "# plt.ylabel('Time to converge (s)')\n",
    "# plt.title('Convergence times: Stationary iterative methods')\n",
    "# plt.legend([v[0] for v in srtd.groupby('method')['method']])\n",
    "# plt.savefig('plots/stat_it_dt.png')"
   ]
  },
  {
   "cell_type": "code",
   "execution_count": null,
   "metadata": {
    "collapsed": false
   },
   "outputs": [],
   "source": [
    "fig = plt.figure(figsize=figsize)\n",
    "ax = plt.gca()\n",
    "srtd = krylov.sort_values('mat_size')\n",
    "srtd.groupby('method').plot(x='mat_size',y='dt',ax=ax,marker='o')\n",
    "ax.set_yscale('log')\n",
    "plt.xlabel('Matrix size (m=n)')\n",
    "plt.ylabel('Log time to converge (log s)')\n",
    "plt.title('Convergence times: Krylov subspace methods')\n",
    "plt.legend([v[0] for v in srtd.groupby('method')['method']])\n",
    "plt.savefig('plots/krylov_dt_log.png')\n",
    "\n",
    "fig = plt.figure(figsize=figsize)\n",
    "ax = plt.gca()\n",
    "srtd.groupby('method').plot(x='mat_size',y='dt',ax=ax,marker='o')\n",
    "plt.xlabel('Matrix size (m=n)')\n",
    "plt.ylabel('Time to converge (s)')\n",
    "plt.title('Convergence times: Krylov subspace methods')\n",
    "plt.legend([v[0] for v in srtd.groupby('method')['method']])\n",
    "plt.savefig('plots/krylov_dt.png')"
   ]
  },
  {
   "cell_type": "code",
   "execution_count": null,
   "metadata": {
    "collapsed": false
   },
   "outputs": [],
   "source": [
    "# Isolate LGMRES results\n",
    "(\n",
    "    krylov\n",
    "    [krylov['method']=='lgmres']\n",
    "    .sort_values(['nx','nth'])\n",
    ")\n",
    "\n"
   ]
  },
  {
   "cell_type": "code",
   "execution_count": null,
   "metadata": {
    "collapsed": false
   },
   "outputs": [],
   "source": [
    "# Extract dt values for lgmres to 2d array\n",
    "# Indexed by [ns,na]\n",
    "dt_grid = (\n",
    "    krylov\n",
    "    [krylov['method']=='lgmres']\n",
    "    .sort_values(['nx','nth'])\n",
    "    ['dt']\n",
    "    .values\n",
    "    .reshape([nsg,nag])\n",
    ")\n",
    "\n",
    "# Create meshgrids for ns, na\n",
    "ns_list = np.sort(np.unique(krylov['nx']))\n",
    "na_list = np.sort(np.unique(krylov['nth']))\n",
    "ns_grid,na_grid = np.meshgrid(ns_list,na_list,indexing='ij')"
   ]
  },
  {
   "cell_type": "code",
   "execution_count": null,
   "metadata": {
    "collapsed": false
   },
   "outputs": [],
   "source": [
    "cmap = cm.viridis_r\n",
    "plt.figure(figsize=figsize)\n",
    "#plt.contour(ns_grid,na_grid,np.log(dt_grid),cmap=cmap)\n",
    "plt.scatter(ns_grid,na_grid,c=np.log(dt_grid),\n",
    "            cmap=cmap,edgecolor='k',s=100)\n",
    "plt.colorbar(label='Solution time')\n",
    "plt.xlabel('Spatial grid points')\n",
    "plt.ylabel('Angular grid points')\n",
    "plt.title('LGMRES solution times for various grids')\n",
    "\n",
    "# Add text above dots\n",
    "vshift = max(na_list)/25\n",
    "for ii in range(nsg):\n",
    "    ns = ns_list[ii]\n",
    "    for jj in range(nag):\n",
    "        na = na_list[jj]\n",
    "        dt = dt_grid[ii][jj]\n",
    "        plt.text(ns,na+vshift,'{:.2e}'.format(dt),ha='center',va='bottom')\n",
    "\n",
    "plt.tight_layout()\n",
    "\n",
    "plot_margin = vshift\n",
    "\n",
    "x0, x1, y0, y1 = plt.axis()\n",
    "plt.axis((x0 - plot_margin,\n",
    "          x1 + plot_margin,\n",
    "          y0 - plot_margin,\n",
    "          y1 + plot_margin * 2))"
   ]
  },
  {
   "cell_type": "code",
   "execution_count": null,
   "metadata": {
    "collapsed": false
   },
   "outputs": [],
   "source": [
    "# Create list of lists from solutions for method\n",
    "# method_name is the string identifying the method\n",
    "# sol is a dict-like object containing the solution\n",
    "# sol is indexed by matrix name, then method name\n",
    "def method_to_grid(method_name,sol,ns_list,na_list):\n",
    "    # Determine nsg, nag\n",
    "    nsg = len(ns_list)\n",
    "    nag = len(na_list)\n",
    "    \n",
    "    grid = []\n",
    "    for ii in range(nsg):\n",
    "        grid.append([])\n",
    "        for jj in range(nag):\n",
    "            grid[ii].append(sol['{:.0f}x{:.0f}'\n",
    "                                .format(ns_list[ii],na_list[jj])]\n",
    "                                [method_name]\n",
    "                                [:]\n",
    "                           )\n",
    "    return grid"
   ]
  },
  {
   "cell_type": "code",
   "execution_count": null,
   "metadata": {
    "collapsed": false
   },
   "outputs": [],
   "source": [
    "# Create grid of plots for a particular method\n",
    "# qq = radiance quantity to plot (2D array of shape (ns,na))\n",
    "def irrad_grid(qq,ns_list,na_list,method,var_order=[0,1,2],\n",
    "               cmap=cmocean.cm.thermal,title=None):\n",
    "    \n",
    "    # Determine nsg, nag\n",
    "    nsg = len(ns_list)\n",
    "    nag = len(na_list)\n",
    "    \n",
    "    # Axis grid\n",
    "    # Use GridSpec to allow margins to be adjusted nicely\n",
    "    # without title overlapping column labels\n",
    "    # See: http://stackoverflow.com/questions/8248467/matplotlib-tight-layout-doesnt-take-into-account-figure-subtitle\n",
    "    \n",
    "    fig = plt.figure(figsize=[12,12.5])\n",
    "    gs = gridspec.GridSpec(nsg,nag)\n",
    "    ax_list = [fig.add_subplot(ss) for ss in gs]\n",
    "    \n",
    "    # Font size for row & column labels\n",
    "    fs = 20\n",
    "    \n",
    "    # Axes counter\n",
    "    kk = 0\n",
    "    for ii in range(nsg):\n",
    "        ns = int(ns_list[ii])\n",
    "        for jj in range(nag):\n",
    "            na = int(na_list[jj])\n",
    "            var_lengths = [ns,ns,na]\n",
    "            \n",
    "            # Row & Column labels\n",
    "            if jj == 0:\n",
    "                ylabel = 'NS = {}'.format(ns)\n",
    "            else:\n",
    "                ylabel = ''\n",
    "            if ii == nsg-1:\n",
    "                xlabel = 'NA = {}'.format(na)\n",
    "            else:\n",
    "                xlabel = ''\n",
    "            \n",
    "            title = ''\n",
    "            \n",
    "            plt.sca(ax_list[kk])\n",
    "            gm2.plot_irrad(qq[ii][jj],var_lengths,var_order,cmap=cmap,\n",
    "                cbar_kwargs=dict(\n",
    "                    format=ticker.FuncFormatter(fmt)))\n",
    "            \n",
    "            plt.colorbar()\n",
    "            \n",
    "            ax_list[kk].set_xlabel(xlabel,fontsize=fs)\n",
    "            ax_list[kk].set_ylabel(ylabel,fontsize=fs)\n",
    "            ax_list[kk].set_title(title,fontsize=fs)\n",
    "            \n",
    "            ax_list[kk].set_xticks([])\n",
    "            ax_list[kk].set_yticks([])\n",
    "            \n",
    "            \n",
    "            # Increment axes counter\n",
    "            kk += 1\n",
    "            \n",
    "    # Figure title\n",
    "    plt.suptitle('{} Convergence Grid'.format(method),fontsize=fs+4)\n",
    "\n",
    "\n",
    "    plt.subplots_adjust()\n",
    "\n",
    "    # Reduce margins\n",
    "    #gs.tight_layout(fig, rect=[0,0,1,1])\n",
    "    gs.tight_layout(fig, rect=[0,0,1,0.95])\n"
   ]
  },
  {
   "cell_type": "code",
   "execution_count": null,
   "metadata": {
    "collapsed": false,
    "scrolled": false
   },
   "outputs": [],
   "source": [
    "g=method_to_grid('lgmres',sol,ns_list,na_list)\n",
    "irrad_grid(g,ns_list,na_list,'LGMRES')"
   ]
  },
  {
   "cell_type": "code",
   "execution_count": null,
   "metadata": {
    "collapsed": false
   },
   "outputs": [],
   "source": [
    "len(g2[0])"
   ]
  },
  {
   "cell_type": "code",
   "execution_count": null,
   "metadata": {
    "collapsed": false
   },
   "outputs": [],
   "source": [
    "g1[0][0] - g2[0][0]"
   ]
  },
  {
   "cell_type": "code",
   "execution_count": null,
   "metadata": {
    "collapsed": true
   },
   "outputs": [],
   "source": [
    "g1=method_to_grid('lgmres',sol,ns_list,na_list)\n",
    "g2=method_to_grid('lu',sol,ns_list,na_list)"
   ]
  },
  {
   "cell_type": "code",
   "execution_count": null,
   "metadata": {
    "collapsed": false
   },
   "outputs": [],
   "source": [
    "gdiff = [[np.abs(g1[ii][jj]-g2[ii][jj][:,0]) for jj in range(len(g1[0]))] for ii in range(len(g1))]"
   ]
  },
  {
   "cell_type": "code",
   "execution_count": null,
   "metadata": {
    "collapsed": false,
    "scrolled": false
   },
   "outputs": [],
   "source": [
    "irrad_grid(gdiff,ns_list,na_list,'LGMRES - LU')"
   ]
  },
  {
   "cell_type": "code",
   "execution_count": null,
   "metadata": {
    "collapsed": false
   },
   "outputs": [],
   "source": [
    "maxdiff = np.abs(s1-s2[:,0]).max()\n",
    "gm2.plot_irrad(s1-s2[:,0],[40,40,40],[0,1,2],\n",
    "                cmap=cmocean.cm.thermal,\n",
    "                cbar_kwargs=dict(\n",
    "                    format=ticker.FuncFormatter(fmt)),\n",
    "                title='LGMRES - LU'\n",
    "                )"
   ]
  },
  {
   "cell_type": "code",
   "execution_count": null,
   "metadata": {
    "collapsed": false
   },
   "outputs": [],
   "source": [
    "# Contour plots of convergence time\n",
    "\n",
    "# Reshape times into 2D array\n",
    "grid = \n",
    "\n",
    "fig = plt.figure(figsize=[10,6])\n",
    "ax = plt.gca()\n",
    "srtd = krylov.sort_values('mat_size')\n",
    "srtd.groupby('method').plot(x='mat_size',y='dt',ax=ax,marker='o')\n",
    "ax.set_yscale('log')\n",
    "plt.xlabel('Matrix size (m=n)')\n",
    "plt.ylabel('Log time to converge (log s)')\n",
    "plt.title('Convergence times: Krylov subspace methods')\n",
    "plt.legend([v[0] for v in srtd.groupby('method')['method']])\n",
    "plt.savefig('plots/krylov_dt_log.png')\n"
   ]
  },
  {
   "cell_type": "code",
   "execution_count": null,
   "metadata": {
    "collapsed": false
   },
   "outputs": [],
   "source": [
    "fig = plt.figure(figsize=[10,6])\n",
    "ax = plt.gca()\n",
    "srtd = direct.sort_values('mat_size')\n",
    "srtd.groupby('method').plot(x='mat_size',y='dt',ax=ax,marker='o')\n",
    "ax.set_yscale('log')\n",
    "plt.xlabel('Matrix size (m=n)')\n",
    "plt.ylabel('Log time to converge (log s)')\n",
    "plt.title('Convergence times: Direct methods')\n",
    "plt.legend([v[0] for v in srtd.groupby('method')['method']])\n",
    "plt.savefig('plots/direct_dt_log.png')\n",
    "\n",
    "fig = plt.figure(figsize=[10,6])\n",
    "ax = plt.gca()\n",
    "srtd.groupby('method').plot(x='mat_size',y='dt',ax=ax,marker='o')\n",
    "plt.xlabel('Matrix size (m=n)')\n",
    "plt.ylabel('Time to converge (s)')\n",
    "plt.title('Convergence times: Direct methods')\n",
    "plt.legend([v[0] for v in srtd.groupby('method')['method']])\n",
    "plt.savefig('plots/direct_dt.png')"
   ]
  },
  {
   "cell_type": "code",
   "execution_count": null,
   "metadata": {
    "collapsed": true
   },
   "outputs": [],
   "source": []
  }
 ],
 "metadata": {
  "kernelspec": {
   "display_name": "Python 3",
   "language": "python",
   "name": "python3"
  },
  "language_info": {
   "codemirror_mode": {
    "name": "ipython",
    "version": 3
   },
   "file_extension": ".py",
   "mimetype": "text/x-python",
   "name": "python",
   "nbconvert_exporter": "python",
   "pygments_lexer": "ipython3",
   "version": "3.6.0"
  }
 },
 "nbformat": 4,
 "nbformat_minor": 2
}
