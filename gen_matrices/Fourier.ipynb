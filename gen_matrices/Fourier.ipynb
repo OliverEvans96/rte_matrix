{
 "cells": [
  {
   "cell_type": "code",
   "execution_count": 1,
   "metadata": {
    "collapsed": false,
    "deletable": true,
    "editable": true
   },
   "outputs": [],
   "source": [
    "import sympy as s\n",
    "s.init_printing()\n",
    "import numpy as np\n",
    "import matplotlib.pyplot as plt\n",
    "%matplotlib inline"
   ]
  },
  {
   "cell_type": "code",
   "execution_count": 2,
   "metadata": {
    "collapsed": false,
    "deletable": true,
    "editable": true
   },
   "outputs": [],
   "source": [
    "s.var('x,F0,T,w',real=True,positive=True)\n",
    "i = s.var('i',integer=True,positive=True)\n",
    "x1 = T/10\n",
    "x2 = 2*T/5\n",
    "x3 = T/2\n",
    "x4 = T\n",
    "y1 = F0\n",
    "m1 = y1/x1\n",
    "m2 = -m1*x1/(x3-x2)\n",
    "#w = 2*s.pi*i/T\n",
    "\n",
    "f = s.Piecewise(\n",
    "        (m1*x,x<x1),\n",
    "        (y1,x<x2),\n",
    "        (m2*(x-x3),x<x3),\n",
    "        (0,x<=x4))"
   ]
  },
  {
   "cell_type": "code",
   "execution_count": 5,
   "metadata": {
    "collapsed": false,
    "deletable": true,
    "editable": true
   },
   "outputs": [
    {
     "data": {
      "image/png": "[encoded data removed]",
      "text/latex": [
       "$$\\frac{2 F_{0}}{T w} \\sin{\\left (\\frac{T w}{10} \\right )} + \\frac{20 F_{0}}{T^{2} w^{2}} \\cos{\\left (\\frac{T w}{10} \\right )} - \\frac{20 F_{0}}{T^{2} w^{2}}$$"
      ],
      "text/plain": [
       "        ⎛T⋅w⎞            ⎛T⋅w⎞        \n",
       "2⋅F₀⋅sin⎜───⎟   20⋅F₀⋅cos⎜───⎟        \n",
       "        ⎝ 10⎠            ⎝ 10⎠   20⋅F₀\n",
       "───────────── + ────────────── - ─────\n",
       "     T⋅w             2  2         2  2\n",
       "                    T ⋅w         T ⋅w "
      ]
     },
     "execution_count": 5,
     "metadata": {},
     "output_type": "execute_result"
    }
   ],
   "source": [
    "(2/T * s.integrate(f*s.cos(w*x),(x,0,x1))).expand()"
   ]
  },
  {
   "cell_type": "code",
   "execution_count": 3,
   "metadata": {
    "collapsed": false
   },
   "outputs": [
    {
     "data": {
      "image/png": "[encoded data removed]",
      "text/latex": [
       "$$\\begin{cases} \\frac{10 F_{0}}{T} x & \\text{for}\\: x < \\frac{T}{10} \\\\F_{0} & \\text{for}\\: x < \\frac{2 T}{5} \\\\- \\frac{10 F_{0}}{T} \\left(- \\frac{T}{2} + x\\right) & \\text{for}\\: x < \\frac{T}{2} \\\\0 & \\text{for}\\: x \\leq T \\end{cases}$$"
      ],
      "text/plain": [
       "⎧     10⋅F₀⋅x               T  \n",
       "⎪     ───────       for x < ── \n",
       "⎪        T                  10 \n",
       "⎪                              \n",
       "⎪                           2⋅T\n",
       "⎪       F₀          for x < ───\n",
       "⎪                            5 \n",
       "⎨                              \n",
       "⎪       ⎛  T    ⎞              \n",
       "⎪-10⋅F₀⋅⎜- ─ + x⎟              \n",
       "⎪       ⎝  2    ⎠            T \n",
       "⎪─────────────────   for x < ─ \n",
       "⎪        T                   2 \n",
       "⎪                              \n",
       "⎩        0           for x ≤ T "
      ]
     },
     "execution_count": 3,
     "metadata": {},
     "output_type": "execute_result"
    }
   ],
   "source": [
    "f"
   ]
  },
  {
   "cell_type": "code",
   "execution_count": 11,
   "metadata": {
    "collapsed": false,
    "deletable": true,
    "editable": true
   },
   "outputs": [
    {
     "data": {
      "image/png": "[encoded data removed]",
      "text/latex": [
       "$$\\frac{1}{T} \\left(\\frac{2 F_{0}}{w} \\cos{\\left (\\frac{T w}{10} \\right )} - \\frac{2 F_{0}}{w} \\cos{\\left (\\frac{2 T}{5} w \\right )} + \\frac{20 F_{0}}{T} \\left(- \\frac{T}{10 w} \\cos{\\left (\\frac{T w}{10} \\right )} + \\frac{1}{w^{2}} \\sin{\\left (\\frac{T w}{10} \\right )}\\right) + \\frac{20 F_{0}}{T} \\left(\\frac{T}{10 w} \\cos{\\left (\\frac{2 T}{5} w \\right )} + \\frac{1}{w^{2}} \\sin{\\left (\\frac{2 T}{5} w \\right )}\\right) - \\frac{20 F_{0}}{T w^{2}} \\sin{\\left (\\frac{T w}{2} \\right )}\\right)$$"
      ],
      "text/plain": [
       "  ⎛                                    ⎛       ⎛T⋅w⎞      ⎛T⋅w⎞⎞         ⎛    \n",
       "  ⎜                                    ⎜  T⋅cos⎜───⎟   sin⎜───⎟⎟         ⎜T⋅co\n",
       "  ⎜                                    ⎜       ⎝ 10⎠      ⎝ 10⎠⎟         ⎜    \n",
       "  ⎜      ⎛T⋅w⎞         ⎛2⋅T⋅w⎞   10⋅F₀⋅⎜- ────────── + ────────⎟   10⋅F₀⋅⎜────\n",
       "  ⎜F₀⋅cos⎜───⎟   F₀⋅cos⎜─────⎟         ⎜     10⋅w          2   ⎟         ⎜    \n",
       "  ⎜      ⎝ 10⎠         ⎝  5  ⎠         ⎝                  w    ⎠         ⎝    \n",
       "2⋅⎜─────────── - ───────────── + ─────────────────────────────── + ───────────\n",
       "  ⎜     w              w                        T                             \n",
       "  ⎝                                                                           \n",
       "──────────────────────────────────────────────────────────────────────────────\n",
       "                                                          T                   \n",
       "\n",
       " ⎛2⋅T⋅w⎞      ⎛2⋅T⋅w⎞⎞                 ⎞\n",
       "s⎜─────⎟   sin⎜─────⎟⎟                 ⎟\n",
       " ⎝  5  ⎠      ⎝  5  ⎠⎟                 ⎟\n",
       "──────── + ──────────⎟            ⎛T⋅w⎞⎟\n",
       "10⋅w            2    ⎟   10⋅F₀⋅sin⎜───⎟⎟\n",
       "               w     ⎠            ⎝ 2 ⎠⎟\n",
       "────────────────────── - ──────────────⎟\n",
       "     T                           2     ⎟\n",
       "                              T⋅w      ⎠\n",
       "────────────────────────────────────────\n",
       "                                        "
      ]
     },
     "execution_count": 11,
     "metadata": {},
     "output_type": "execute_result"
    }
   ],
   "source": [
    "2/T * s.integrate(f*s.sin(w*x),(x,0,x4))"
   ]
  },
  {
   "cell_type": "code",
   "execution_count": 10,
   "metadata": {
    "collapsed": false,
    "deletable": true,
    "editable": true
   },
   "outputs": [
    {
     "data": {
      "image/png": "[encoded data removed]",
      "text/latex": [
       "$$\\frac{4 F_{0}}{5}$$"
      ],
      "text/plain": [
       "4⋅F₀\n",
       "────\n",
       " 5  "
      ]
     },
     "execution_count": 10,
     "metadata": {},
     "output_type": "execute_result"
    }
   ],
   "source": [
    "2/T * s.integrate(f,(x,0,x4))"
   ]
  },
  {
   "cell_type": "code",
   "execution_count": null,
   "metadata": {
    "collapsed": true,
    "deletable": true,
    "editable": true
   },
   "outputs": [],
   "source": []
  },
  {
   "cell_type": "code",
   "execution_count": 47,
   "metadata": {
    "collapsed": false,
    "deletable": true,
    "editable": true
   },
   "outputs": [
    {
     "name": "stdout",
     "output_type": "stream",
     "text": [
      "$a_i = \\frac{1}{T} \\left(- \\frac{5 \\left(-1\\right)^{i} F_{0} T}{\\pi^{2} i^{2}} - \\frac{F_{0} T}{\\pi i} \\sin{\\left (\\frac{\\pi i}{5} \\right )} + \\frac{F_{0} T}{\\pi i} \\sin{\\left (\\frac{4 \\pi}{5} i \\right )} - \\frac{5 F_{0} T}{\\pi^{2} i^{2}} + \\frac{20 F_{0}}{T} \\left(\\frac{T^{2} \\sin{\\left (\\frac{\\pi i}{5} \\right )}}{20 \\pi i} + \\frac{T^{2} \\cos{\\left (\\frac{\\pi i}{5} \\right )}}{4 \\pi^{2} i^{2}}\\right) + \\frac{20 F_{0}}{T} \\left(- \\frac{T^{2}}{20 \\pi i} \\sin{\\left (\\frac{4 \\pi}{5} i \\right )} + \\frac{T^{2}}{4 \\pi^{2} i^{2}} \\cos{\\left (\\frac{4 \\pi}{5} i \\right )}\\right)\\right)$\n"
     ]
    }
   ],
   "source": [
    "print(\"$a_i = \"+s.latex(ai)+\"$\")"
   ]
  },
  {
   "cell_type": "code",
   "execution_count": 48,
   "metadata": {
    "collapsed": false,
    "deletable": true,
    "editable": true
   },
   "outputs": [
    {
     "name": "stdout",
     "output_type": "stream",
     "text": [
      "$b_i = \\frac{1}{T} \\left(- \\frac{5 \\left(-1\\right)^{i} F_{0} T}{\\pi^{2} i^{2}} - \\frac{F_{0} T}{\\pi i} \\sin{\\left (\\frac{\\pi i}{5} \\right )} + \\frac{F_{0} T}{\\pi i} \\sin{\\left (\\frac{4 \\pi}{5} i \\right )} - \\frac{5 F_{0} T}{\\pi^{2} i^{2}} + \\frac{20 F_{0}}{T} \\left(\\frac{T^{2} \\sin{\\left (\\frac{\\pi i}{5} \\right )}}{20 \\pi i} + \\frac{T^{2} \\cos{\\left (\\frac{\\pi i}{5} \\right )}}{4 \\pi^{2} i^{2}}\\right) + \\frac{20 F_{0}}{T} \\left(- \\frac{T^{2}}{20 \\pi i} \\sin{\\left (\\frac{4 \\pi}{5} i \\right )} + \\frac{T^{2}}{4 \\pi^{2} i^{2}} \\cos{\\left (\\frac{4 \\pi}{5} i \\right )}\\right)\\right)$\n"
     ]
    }
   ],
   "source": [
    "print(\"$b_i = \"+s.latex(bi)+\"$\")"
   ]
  },
  {
   "cell_type": "code",
   "execution_count": 49,
   "metadata": {
    "collapsed": false,
    "deletable": true,
    "editable": true
   },
   "outputs": [
    {
     "name": "stdout",
     "output_type": "stream",
     "text": [
      "$a_0 = \\frac{4 F_{0}}{5}$\n"
     ]
    }
   ],
   "source": [
    "print(\"$a_0 = \"+s.latex(a0)+\"$\")"
   ]
  },
  {
   "cell_type": "code",
   "execution_count": 52,
   "metadata": {
    "collapsed": false,
    "deletable": true,
    "editable": true
   },
   "outputs": [
    {
     "data": {
      "image/png": "[encoded data removed]",
      "text/latex": [
       "$$\\frac{4.0}{\\pi^{2}} \\sin{\\left (\\frac{\\pi x}{2} \\right )} - \\frac{0.444444444444444}{\\pi^{2}} \\sin{\\left (\\frac{3 \\pi}{2} x \\right )} - \\frac{4.0}{\\pi^{2}} \\cos{\\left (\\frac{\\pi x}{2} \\right )} - \\frac{0.444444444444444}{\\pi^{2}} \\cos{\\left (\\frac{3 \\pi}{2} x \\right )} + 0.5 + \\ldots$$"
      ],
      "text/plain": [
       "       ⎛π⋅x⎞                        ⎛3⋅π⋅x⎞          ⎛π⋅x⎞                    \n",
       "4.0⋅sin⎜───⎟   0.444444444444444⋅sin⎜─────⎟   4.0⋅cos⎜───⎟   0.444444444444444\n",
       "       ⎝ 2 ⎠                        ⎝  2  ⎠          ⎝ 2 ⎠                    \n",
       "──────────── - ──────────────────────────── - ──────────── - ─────────────────\n",
       "      2                      2                      2                      2  \n",
       "     π                      π                      π                      π   \n",
       "\n",
       "    ⎛3⋅π⋅x⎞          \n",
       "⋅cos⎜─────⎟          \n",
       "    ⎝  2  ⎠          \n",
       "─────────── + 0.5 + …\n",
       "                     \n",
       "                     "
      ]
     },
     "execution_count": 52,
     "metadata": {},
     "output_type": "execute_result"
    }
   ],
   "source": [
    "fs = s.fourier_series(f,(x,0,x4))"
   ]
  },
  {
   "cell_type": "code",
   "execution_count": 82,
   "metadata": {
    "collapsed": false,
    "deletable": true,
    "editable": true
   },
   "outputs": [],
   "source": [
    "fsn = fs.truncate(n=5)\n",
    "ff = s.lambdify(x,fsn)"
   ]
  },
  {
   "cell_type": "code",
   "execution_count": 83,
   "metadata": {
    "collapsed": false,
    "deletable": true,
    "editable": true,
    "scrolled": false
   },
   "outputs": [
    {
     "data": {
      "image/png": "[encoded data removed]",
      "text/latex": [
       "$$\\frac{4.0}{\\pi^{2}} \\sin{\\left (\\frac{\\pi x}{2} \\right )} - \\frac{0.444444444444444}{\\pi^{2}} \\sin{\\left (\\frac{3 \\pi}{2} x \\right )} + \\frac{0.16}{\\pi^{2}} \\sin{\\left (\\frac{5 \\pi}{2} x \\right )} - \\frac{0.0816326530612245}{\\pi^{2}} \\sin{\\left (\\frac{7 \\pi}{2} x \\right )} - \\frac{4.0}{\\pi^{2}} \\cos{\\left (\\frac{\\pi x}{2} \\right )} - \\frac{0.444444444444444}{\\pi^{2}} \\cos{\\left (\\frac{3 \\pi}{2} x \\right )} - \\frac{0.16}{\\pi^{2}} \\cos{\\left (\\frac{5 \\pi}{2} x \\right )} - \\frac{0.0816326530612245}{\\pi^{2}} \\cos{\\left (\\frac{7 \\pi}{2} x \\right )} + 0.5$$"
      ],
      "text/plain": [
       "       ⎛π⋅x⎞                        ⎛3⋅π⋅x⎞           ⎛5⋅π⋅x⎞                 \n",
       "4.0⋅sin⎜───⎟   0.444444444444444⋅sin⎜─────⎟   0.16⋅sin⎜─────⎟   0.081632653061\n",
       "       ⎝ 2 ⎠                        ⎝  2  ⎠           ⎝  2  ⎠                 \n",
       "──────────── - ──────────────────────────── + ─────────────── - ──────────────\n",
       "      2                      2                        2                       \n",
       "     π                      π                        π                        \n",
       "\n",
       "        ⎛7⋅π⋅x⎞          ⎛π⋅x⎞                        ⎛3⋅π⋅x⎞           ⎛5⋅π⋅x\n",
       "2245⋅sin⎜─────⎟   4.0⋅cos⎜───⎟   0.444444444444444⋅cos⎜─────⎟   0.16⋅cos⎜─────\n",
       "        ⎝  2  ⎠          ⎝ 2 ⎠                        ⎝  2  ⎠           ⎝  2  \n",
       "─────────────── - ──────────── - ──────────────────────────── - ──────────────\n",
       " 2                      2                      2                        2     \n",
       "π                      π                      π                        π      \n",
       "\n",
       "⎞                         ⎛7⋅π⋅x⎞      \n",
       "⎟   0.0816326530612245⋅cos⎜─────⎟      \n",
       "⎠                         ⎝  2  ⎠      \n",
       "─ - ───────────────────────────── + 0.5\n",
       "                   2                   \n",
       "                  π                    "
      ]
     },
     "execution_count": 83,
     "metadata": {},
     "output_type": "execute_result"
    }
   ],
   "source": [
    "fsn"
   ]
  },
  {
   "cell_type": "code",
   "execution_count": 84,
   "metadata": {
    "collapsed": false,
    "deletable": true,
    "editable": true
   },
   "outputs": [
    {
     "data": {
      "text/plain": [
       "[<matplotlib.lines.Line2D at 0x7f738fab2160>]"
      ]
     },
     "execution_count": 84,
     "metadata": {},
     "output_type": "execute_result"
    },
    {
     "data": {
      "image/png": "[encoded data removed]",
      "text/plain": [
       "<matplotlib.figure.Figure at 0x7f738fb43f98>"
      ]
     },
     "metadata": {},
     "output_type": "display_data"
    }
   ],
   "source": [
    "xx = np.linspace(0,x4,1001)\n",
    "yy = np.zeros_like(xx)\n",
    "for i,xi in enumerate(xx):\n",
    "    yy[i] = ff(xi)\n",
    "plt.plot(xx,yy)"
   ]
  }
 ],
 "metadata": {
  "anaconda-cloud": {},
  "kernelspec": {
   "display_name": "Python [default]",
   "language": "python",
   "name": "python3"
  },
  "language_info": {
   "codemirror_mode": {
    "name": "ipython",
    "version": 3
   },
   "file_extension": ".py",
   "mimetype": "text/x-python",
   "name": "python",
   "nbconvert_exporter": "python",
   "pygments_lexer": "ipython3",
   "version": "3.5.2"
  }
 },
 "nbformat": 4,
 "nbformat_minor": 2
}
