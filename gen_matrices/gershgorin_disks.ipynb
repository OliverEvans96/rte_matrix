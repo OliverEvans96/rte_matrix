{
 "cells": [
  {
   "cell_type": "code",
   "execution_count": 1,
   "metadata": {
    "collapsed": true,
    "deletable": true,
    "editable": true
   },
   "outputs": [],
   "source": [
    "import IPython\n",
    "import numpy as np\n",
    "import numpy.linalg as la\n",
    "from scipy import io\n",
    "import scipy.sparse as sp\n",
    "import scipy.sparse.linalg as sla\n",
    "import matplotlib.pyplot as plt\n",
    "%matplotlib inline"
   ]
  },
  {
   "cell_type": "code",
   "execution_count": 2,
   "metadata": {
    "collapsed": false,
    "deletable": true,
    "editable": true
   },
   "outputs": [],
   "source": [
    "# Plot gershgorin disks in the complex plane, which contain all eigenvalues of AA\n",
    "# Assume AA is square\n",
    "# https://en.wikipedia.org/wiki/Gershgorin_circle_theorem\n",
    "# mgin is % of total width & height that each margin occupies (0<=mgin<0.5)\n",
    "def plot_gdisks(AA,fill=True,mgin=.05):\n",
    "    # Dimension of matrix\n",
    "    nn = AA.shape[0]\n",
    "    \n",
    "    # Extract diagonal elements\n",
    "    DD = AA.diagonal().reshape(nn,1)\n",
    "    \n",
    "    # Sum of abs. in each row\n",
    "    rho = np.abs(AA).sum(axis=1)\n",
    "    \n",
    "    # All eigenvals have mag. <= max(rho)\n",
    "    max_mag = rho.max()\n",
    "    \n",
    "    # Gershorin radius = sum of abs. of non-diagonal elements\n",
    "    rr = rho - np.abs(DD)\n",
    "\n",
    "    # Set up figure\n",
    "    fig = plt.figure(figsize=[10,8])\n",
    "    ax = fig.gca()\n",
    "    ax.set_aspect(1)\n",
    "    \n",
    "    # Set margin\n",
    "    plt_lim = max_mag / (1 - 2*mgin)\n",
    "    ax.set_xlim([-plt_lim,plt_lim])\n",
    "    ax.set_ylim([-plt_lim,plt_lim])\n",
    "    ax.set_xlabel(r'Re($\\lambda$)')\n",
    "    ax.set_ylabel(r'Im($\\lambda$)')\n",
    "    ax.set_title('Gershgorin Disks (n={})'.format(nn))\n",
    "    \n",
    "    # Plot circle containing all Gershgorin disks\n",
    "    circ = plt.Circle([0,0],max_mag,fill=False,color='r')\n",
    "    ax.add_artist(circ)\n",
    "    \n",
    "    # Plot circles in a loop (one per row)\n",
    "    for ii in range(nn):\n",
    "        # Center of circle in complex plane is diagonal entry\n",
    "        # Radius is Gershgorin radius\n",
    "        cent = [DD.real[ii,0],DD.imag[ii,0]]\n",
    "        circ = plt.Circle(cent,rr[ii],\n",
    "                          fill=fill,\n",
    "                          color='b')\n",
    "        ax.add_artist(circ)"
   ]
  },
  {
   "cell_type": "code",
   "execution_count": 3,
   "metadata": {
    "collapsed": true,
    "deletable": true,
    "editable": true
   },
   "outputs": [],
   "source": [
    "# Plot diagonal dominance quantity (D - Q) as a function of row number\n",
    "def plot_dd(AA):\n",
    "    nn = AA.shape[0]\n",
    "    # Diagonal dominance quantity, D - Q (pre-shift)\n",
    "    ddq = np.zeros(nn)\n",
    "    row_list = np.arange(nn)\n",
    "    for k in row_list:\n",
    "        if k%100 == 0:\n",
    "            print('k={}'.format(k))\n",
    "        D = np.abs(AA[k,k])\n",
    "        Q = np.abs(AA[k,:k]).sum() + np.abs(AA[k,k+1:]).sum()\n",
    "        ddq[k] = D - Q\n",
    "    \n",
    "    plt.figure(figsize=[10,6])\n",
    "    plt.plot(row_list,ddq,label=\"$D' - Q$ (post)\")\n",
    "    plt.legend()\n",
    "    \n",
    "    print(\"Min (pre) : {:.3e}\".format(min(ddq)))"
   ]
  },
  {
   "cell_type": "code",
   "execution_count": 4,
   "metadata": {
    "collapsed": true,
    "deletable": true,
    "editable": true,
    "scrolled": true
   },
   "outputs": [],
   "source": [
    "# Given a matrix AA, return the matrix GG whose spectral radius\n",
    "# determines the convergence of J, GS, and SOR methods.\n",
    "# A = N - P\n",
    "# G = N^{-1}P\n",
    "# w is SOR parameter\n",
    "def conv_mat(AA,w=1.5):\n",
    "        \n",
    "    print(\"1\")\n",
    "    # Determine whether to use standard or sparse functions\n",
    "    if sp.issparse(AA):\n",
    "        # scipy.sparse\n",
    "        pkg = sp\n",
    "        # Which algorithm to use to solve a triangular system\n",
    "        tri_solve = sla.spsolve\n",
    "    else:\n",
    "        # numpy\n",
    "        pkg = np\n",
    "        tri_solve = lp.trtrs\n",
    "        \n",
    "    # NN, PP, and GG are lists of arrays (one for each method)\n",
    "    # 0 = Jacobi,\n",
    "    # 1 = Gauss-Seidel,\n",
    "    # 2 = SOR\n",
    "    \n",
    "    # Number of iterative methods to analyze\n",
    "    nim = 3\n",
    "\n",
    "    # Allocate blank lists\n",
    "    NN = [0] * nim\n",
    "    PP = [0] * nim\n",
    "    GG = [0] * nim\n",
    "    \n",
    "    print(\"2\")\n",
    "\n",
    "    # Isolate diagonal & strictly lower & upper triangular parts\n",
    "    DD = AA.diagonal()\n",
    "    LL = pkg.tril(AA) - DD\n",
    "    UU = pkg.triu(AA) - DD\n",
    "    \n",
    "    print(\"3\")\n",
    "    \n",
    "    # lp.trtrs solves a triangular system\n",
    "    # http://www.netlib.org/lapack/explore-html/da/dba/group__double_o_t_h_e_rcomputational_ga4e87e579d3e1a56b405d572f868cd9a1.html#ga4e87e579d3e1a56b405d572f868cd9a1\n",
    "    \n",
    "    # Jacobi\n",
    "    NN[0] = DD\n",
    "    PP[0] = -(LL + UU)\n",
    "    \n",
    "    print(\"4\")\n",
    "    \n",
    "    # Gauss-Seidel\n",
    "    NN[1] = DD + LL\n",
    "    PP[1] = -UU\n",
    "    \n",
    "    print(\"5\")\n",
    "    \n",
    "    # SOR\n",
    "    NN[2] = 1/w * DD + LL\n",
    "    PP[2] = (1/w - 1) * DD - UU\n",
    "    \n",
    "    print(\"6\")\n",
    "    \n",
    "    # Calculate GG\n",
    "    for ii in range(nim):\n",
    "        print(\"i={}\".format(ii))\n",
    "        print(ii)\n",
    "        GG[ii] = tri_solve(NN[ii],PP[ii])\n",
    "    \n",
    "    return GG    "
   ]
  },
  {
   "cell_type": "code",
   "execution_count": 5,
   "metadata": {
    "collapsed": true
   },
   "outputs": [],
   "source": [
    "# Load matrix\n",
    "A1,b1 = [io.loadmat('../mat/kelp1_20x20x24_012.mat')[key] for key in ['A','b']]"
   ]
  },
  {
   "cell_type": "code",
   "execution_count": 9,
   "metadata": {
    "collapsed": false
   },
   "outputs": [
    {
     "name": "stdout",
     "output_type": "stream",
     "text": [
      "The following commands were written to file `gershgorin.py`:\n",
      "import IPython\n",
      "import numpy as np\n",
      "import numpy.linalg as la\n",
      "from scipy import io\n",
      "import scipy.sparse as sp\n",
      "import scipy.sparse.linalg as sla\n",
      "import matplotlib.pyplot as plt\n",
      "get_ipython().magic('matplotlib inline')\n",
      "# Plot gershgorin disks in the complex plane, which contain all eigenvalues of AA\n",
      "# Assume AA is square\n",
      "# https://en.wikipedia.org/wiki/Gershgorin_circle_theorem\n",
      "# mgin is % of total width & height that each margin occupies (0<=mgin<0.5)\n",
      "def plot_gdisks(AA,fill=True,mgin=.05):\n",
      "    # Dimension of matrix\n",
      "    nn = AA.shape[0]\n",
      "    \n",
      "    # Extract diagonal elements\n",
      "    DD = AA.diagonal().reshape(nn,1)\n",
      "    \n",
      "    # Sum of abs. in each row\n",
      "    rho = np.abs(AA).sum(axis=1)\n",
      "    \n",
      "    # All eigenvals have mag. <= max(rho)\n",
      "    max_mag = rho.max()\n",
      "    \n",
      "    # Gershorin radius = sum of abs. of non-diagonal elements\n",
      "    rr = rho - np.abs(DD)\n",
      "\n",
      "    # Set up figure\n",
      "    fig = plt.figure(figsize=[10,8])\n",
      "    ax = fig.gca()\n",
      "    ax.set_aspect(1)\n",
      "    \n",
      "    # Set margin\n",
      "    plt_lim = max_mag / (1 - 2*mgin)\n",
      "    ax.set_xlim([-plt_lim,plt_lim])\n",
      "    ax.set_ylim([-plt_lim,plt_lim])\n",
      "    ax.set_xlabel(r'Re($\\lambda$)')\n",
      "    ax.set_ylabel(r'Im($\\lambda$)')\n",
      "    ax.set_title('Gershgorin Disks (n={})'.format(nn))\n",
      "    \n",
      "    # Plot circle containing all Gershgorin disks\n",
      "    circ = plt.Circle([0,0],max_mag,fill=False,color='r')\n",
      "    ax.add_artist(circ)\n",
      "    \n",
      "    # Plot circles in a loop (one per row)\n",
      "    for ii in range(nn):\n",
      "        # Center of circle in complex plane is diagonal entry\n",
      "        # Radius is Gershgorin radius\n",
      "        cent = [DD.real[ii,0],DD.imag[ii,0]]\n",
      "        circ = plt.Circle(cent,rr[ii],\n",
      "                          fill=fill,\n",
      "                          color='b')\n",
      "        ax.add_artist(circ)\n",
      "# Plot diagonal dominance quantity (D - Q) as a function of row number\n",
      "def plot_dd(AA):\n",
      "    nn = AA.shape[0]\n",
      "    # Diagonal dominance quantity, D - Q (pre-shift)\n",
      "    ddq = np.zeros(nn)\n",
      "    row_list = np.arange(nn)\n",
      "    for k in row_list:\n",
      "        if k%100 == 0:\n",
      "            print('k={}'.format(k))\n",
      "        D = np.abs(AA[k,k])\n",
      "        Q = np.abs(AA[k,:k]).sum() + np.abs(AA[k,k+1:]).sum()\n",
      "        ddq[k] = D - Q\n",
      "    \n",
      "    plt.figure(figsize=[10,6])\n",
      "    plt.plot(row_list,ddq,label=\"$D' - Q$ (post)\")\n",
      "    plt.legend()\n",
      "    \n",
      "    print(\"Min (pre) : {:.3e}\".format(min(ddq)))\n",
      "# Given a matrix AA, return the matrix GG whose spectral radius\n",
      "# determines the convergence of J, GS, and SOR methods.\n",
      "# A = N - P\n",
      "# G = N^{-1}P\n",
      "# w is SOR parameter\n",
      "def conv_mat(AA,w=1.5):\n",
      "        \n",
      "    print(\"1\")\n",
      "    # Determine whether to use standard or sparse functions\n",
      "    if sp.issparse(AA):\n",
      "        # scipy.sparse\n",
      "        pkg = sp\n",
      "        # Which algorithm to use to solve a triangular system\n",
      "        tri_solve = sla.spsolve\n",
      "    else:\n",
      "        # numpy\n",
      "        pkg = np\n",
      "        tri_solve = lp.trtrs\n",
      "        \n",
      "    # NN, PP, and GG are lists of arrays (one for each method)\n",
      "    # 0 = Jacobi,\n",
      "    # 1 = Gauss-Seidel,\n",
      "    # 2 = SOR\n",
      "    \n",
      "    # Number of iterative methods to analyze\n",
      "    nim = 3\n",
      "\n",
      "    # Allocate blank lists\n",
      "    NN = [0] * nim\n",
      "    PP = [0] * nim\n",
      "    GG = [0] * nim\n",
      "    \n",
      "    print(\"2\")\n",
      "\n",
      "    # Isolate diagonal & strictly lower & upper triangular parts\n",
      "    DD = AA.diagonal()\n",
      "    LL = pkg.tril(AA) - DD\n",
      "    UU = pkg.triu(AA) - DD\n",
      "    \n",
      "    print(\"3\")\n",
      "    \n",
      "    # lp.trtrs solves a triangular system\n",
      "    # http://www.netlib.org/lapack/explore-html/da/dba/group__double_o_t_h_e_rcomputational_ga4e87e579d3e1a56b405d572f868cd9a1.html#ga4e87e579d3e1a56b405d572f868cd9a1\n",
      "    \n",
      "    # Jacobi\n",
      "    NN[0] = DD\n",
      "    PP[0] = -(LL + UU)\n",
      "    \n",
      "    print(\"4\")\n",
      "    \n",
      "    # Gauss-Seidel\n",
      "    NN[1] = DD + LL\n",
      "    PP[1] = -UU\n",
      "    \n",
      "    print(\"5\")\n",
      "    \n",
      "    # SOR\n",
      "    NN[2] = 1/w * DD + LL\n",
      "    PP[2] = (1/w - 1) * DD - UU\n",
      "    \n",
      "    print(\"6\")\n",
      "    \n",
      "    # Calculate GG\n",
      "    for ii in range(nim):\n",
      "        print(\"i={}\".format(ii))\n",
      "        print(ii)\n",
      "        GG[ii] = tri_solve(NN[ii],PP[ii])\n",
      "    \n",
      "    return GG    \n",
      "# Load matrix\n",
      "A1,b1 = [io.loadmat('../mat/kelp1_20x20x24_012.mat')[key] for key in ['A','b']]\n"
     ]
    }
   ],
   "source": [
    "%save gershgorin.py 1-5"
   ]
  },
  {
   "cell_type": "code",
   "execution_count": null,
   "metadata": {
    "collapsed": false,
    "deletable": true,
    "editable": true
   },
   "outputs": [
    {
     "name": "stdout",
     "output_type": "stream",
     "text": [
      "1\n",
      "2\n",
      "3\n"
     ]
    }
   ],
   "source": [
    "conv_mat(A1)"
   ]
  },
  {
   "cell_type": "code",
   "execution_count": 6,
   "metadata": {
    "collapsed": false,
    "deletable": true,
    "editable": true
   },
   "outputs": [
    {
     "data": {
      "image/png": "[encoded data removed]",
      "text/plain": [
       "<matplotlib.figure.Figure at 0x7fcd035327f0>"
      ]
     },
     "metadata": {},
     "output_type": "display_data"
    }
   ],
   "source": [
    "plot_gdisks(A1,fill=False)"
   ]
  },
  {
   "cell_type": "code",
   "execution_count": 26,
   "metadata": {
    "collapsed": false,
    "deletable": true,
    "editable": true
   },
   "outputs": [
    {
     "data": {
      "image/png": "[encoded data removed]",
      "text/plain": [
       "<matplotlib.figure.Figure at 0x7f0eeafccc88>"
      ]
     },
     "metadata": {},
     "output_type": "display_data"
    }
   ],
   "source": [
    "# Load matrix\n",
    "A2,b2 = [io.loadmat('../mat/ddom_20x20x24_012.mat')[key] for key in ['A','b']]\n",
    "plot_gdisks(A2)"
   ]
  },
  {
   "cell_type": "code",
   "execution_count": 35,
   "metadata": {
    "collapsed": false,
    "deletable": true,
    "editable": true,
    "scrolled": true
   },
   "outputs": [
    {
     "name": "stdout",
     "output_type": "stream",
     "text": [
      "k=0\n",
      "k=100\n",
      "k=200\n",
      "k=300\n",
      "k=400\n",
      "k=500\n",
      "k=600\n",
      "k=700\n",
      "k=800\n",
      "k=900\n",
      "k=1000\n",
      "k=1100\n",
      "k=1200\n",
      "k=1300\n",
      "k=1400\n",
      "k=1500\n",
      "k=1600\n",
      "k=1700\n",
      "k=1800\n",
      "k=1900\n",
      "k=2000\n",
      "k=2100\n",
      "k=2200\n",
      "k=2300\n",
      "k=2400\n",
      "k=2500\n",
      "k=2600\n",
      "k=2700\n",
      "k=2800\n",
      "k=2900\n",
      "k=3000\n",
      "k=3100\n",
      "k=3200\n",
      "k=3300\n",
      "k=3400\n",
      "k=3500\n",
      "k=3600\n",
      "k=3700\n",
      "k=3800\n",
      "k=3900\n",
      "k=4000\n",
      "k=4100\n",
      "k=4200\n",
      "k=4300\n",
      "k=4400\n",
      "k=4500\n",
      "k=4600\n",
      "k=4700\n",
      "k=4800\n",
      "k=4900\n",
      "k=5000\n",
      "k=5100\n",
      "k=5200\n",
      "k=5300\n",
      "k=5400\n",
      "k=5500\n",
      "k=5600\n",
      "k=5700\n",
      "k=5800\n",
      "k=5900\n",
      "k=6000\n",
      "k=6100\n",
      "k=6200\n",
      "k=6300\n",
      "k=6400\n",
      "k=6500\n",
      "k=6600\n",
      "k=6700\n",
      "k=6800\n",
      "k=6900\n",
      "k=7000\n",
      "k=7100\n",
      "k=7200\n",
      "k=7300\n",
      "k=7400\n",
      "k=7500\n",
      "k=7600\n",
      "k=7700\n",
      "k=7800\n",
      "k=7900\n",
      "k=8000\n",
      "k=8100\n",
      "k=8200\n",
      "k=8300\n",
      "k=8400\n",
      "k=8500\n",
      "k=8600\n",
      "k=8700\n",
      "k=8800\n",
      "k=8900\n",
      "k=9000\n",
      "k=9100\n",
      "k=9200\n",
      "k=9300\n",
      "k=9400\n",
      "k=9500\n",
      "Min (pre) : 1.000e+00\n"
     ]
    },
    {
     "data": {
      "image/png": "[encoded data removed]",
      "text/plain": [
       "<matplotlib.figure.Figure at 0x7f0eea4a6198>"
      ]
     },
     "metadata": {},
     "output_type": "display_data"
    }
   ],
   "source": [
    "plot_dd(A2)"
   ]
  },
  {
   "cell_type": "code",
   "execution_count": 38,
   "metadata": {
    "collapsed": false,
    "deletable": true,
    "editable": true
   },
   "outputs": [],
   "source": [
    "import scipy.linalg.lapack as lp"
   ]
  },
  {
   "cell_type": "code",
   "execution_count": 42,
   "metadata": {
    "collapsed": false,
    "deletable": true,
    "editable": true
   },
   "outputs": [],
   "source": [
    "lp.dtrtrs?"
   ]
  },
  {
   "cell_type": "code",
   "execution_count": 70,
   "metadata": {
    "collapsed": true,
    "deletable": true,
    "editable": true
   },
   "outputs": [],
   "source": [
    "a = np.diag(np.arange(1,11))\n",
    "b = np.arange(1,11).reshape([10,1])"
   ]
  },
  {
   "cell_type": "code",
   "execution_count": 71,
   "metadata": {
    "collapsed": false,
    "deletable": true,
    "editable": true
   },
   "outputs": [],
   "source": [
    "a2 = np.hstack([a,a])"
   ]
  },
  {
   "cell_type": "code",
   "execution_count": 72,
   "metadata": {
    "collapsed": false,
    "deletable": true,
    "editable": true
   },
   "outputs": [],
   "source": [
    "b2 = np.hstack([b,b])"
   ]
  },
  {
   "cell_type": "code",
   "execution_count": 73,
   "metadata": {
    "collapsed": false,
    "deletable": true,
    "editable": true
   },
   "outputs": [
    {
     "data": {
      "text/plain": [
       "array([[ 1,  1],\n",
       "       [ 2,  2],\n",
       "       [ 3,  3],\n",
       "       [ 4,  4],\n",
       "       [ 5,  5],\n",
       "       [ 6,  6],\n",
       "       [ 7,  7],\n",
       "       [ 8,  8],\n",
       "       [ 9,  9],\n",
       "       [10, 10]])"
      ]
     },
     "execution_count": 73,
     "metadata": {},
     "output_type": "execute_result"
    }
   ],
   "source": [
    "b2"
   ]
  },
  {
   "cell_type": "code",
   "execution_count": 58,
   "metadata": {
    "collapsed": false,
    "deletable": true,
    "editable": true
   },
   "outputs": [],
   "source": [
    "a[0,1] = 1"
   ]
  },
  {
   "cell_type": "code",
   "execution_count": 61,
   "metadata": {
    "collapsed": true,
    "deletable": true,
    "editable": true
   },
   "outputs": [],
   "source": [
    "s = sp.csc_matrix(a)"
   ]
  },
  {
   "cell_type": "code",
   "execution_count": 77,
   "metadata": {
    "collapsed": true,
    "deletable": true,
    "editable": true
   },
   "outputs": [],
   "source": [
    "import scipy"
   ]
  },
  {
   "cell_type": "code",
   "execution_count": 84,
   "metadata": {
    "collapsed": false,
    "deletable": true,
    "editable": true
   },
   "outputs": [
    {
     "data": {
      "text/plain": [
       "array([[ 0.,  0.],\n",
       "       [ 1.,  1.],\n",
       "       [ 1.,  1.],\n",
       "       [ 1.,  1.],\n",
       "       [ 1.,  1.],\n",
       "       [ 1.,  1.],\n",
       "       [ 1.,  1.],\n",
       "       [ 1.,  1.],\n",
       "       [ 1.,  1.],\n",
       "       [ 1.,  1.]])"
      ]
     },
     "execution_count": 84,
     "metadata": {},
     "output_type": "execute_result"
    }
   ],
   "source": [
    "sla.spsolve(s,b2)"
   ]
  },
  {
   "cell_type": "code",
   "execution_count": 81,
   "metadata": {
    "collapsed": false,
    "deletable": true,
    "editable": true
   },
   "outputs": [
    {
     "data": {
      "text/plain": [
       "array([[ 1.,  1.],\n",
       "       [ 1.,  1.],\n",
       "       [ 1.,  1.],\n",
       "       [ 1.,  1.],\n",
       "       [ 1.,  1.],\n",
       "       [ 1.,  1.],\n",
       "       [ 1.,  1.],\n",
       "       [ 1.,  1.],\n",
       "       [ 1.,  1.],\n",
       "       [ 1.,  1.]])"
      ]
     },
     "execution_count": 81,
     "metadata": {},
     "output_type": "execute_result"
    }
   ],
   "source": [
    "la.solve(a,b2)"
   ]
  },
  {
   "cell_type": "code",
   "execution_count": 85,
   "metadata": {
    "collapsed": false,
    "deletable": true,
    "editable": true
   },
   "outputs": [
    {
     "data": {
      "text/plain": [
       "(array([[ 1.,  1.],\n",
       "        [ 1.,  1.],\n",
       "        [ 1.,  1.],\n",
       "        [ 1.,  1.],\n",
       "        [ 1.,  1.],\n",
       "        [ 1.,  1.],\n",
       "        [ 1.,  1.],\n",
       "        [ 1.,  1.],\n",
       "        [ 1.,  1.],\n",
       "        [ 1.,  1.]]), 0)"
      ]
     },
     "execution_count": 85,
     "metadata": {},
     "output_type": "execute_result"
    }
   ],
   "source": [
    "lp.dtrtrs(a,b2)"
   ]
  }
 ],
 "metadata": {
  "anaconda-cloud": {},
  "kernelspec": {
   "display_name": "Python [conda root]",
   "language": "python",
   "name": "conda-root-py"
  },
  "language_info": {
   "codemirror_mode": {
    "name": "ipython",
    "version": 3
   },
   "file_extension": ".py",
   "mimetype": "text/x-python",
   "name": "python",
   "nbconvert_exporter": "python",
   "pygments_lexer": "ipython3",
   "version": "3.5.2"
  }
 },
 "nbformat": 4,
 "nbformat_minor": 2
}
